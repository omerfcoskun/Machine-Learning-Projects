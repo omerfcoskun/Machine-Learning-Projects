{
 "cells": [
  {
   "cell_type": "markdown",
   "metadata": {},
   "source": [
    "<h3>Import Library<h3>"
   ]
  },
  {
   "cell_type": "code",
   "execution_count": 29,
   "metadata": {},
   "outputs": [],
   "source": [
    "import numpy as np\n",
    "import matplotlib.pyplot as plt\n",
    "import seaborn as sns\n",
    "from scipy import stats\n",
    "\n",
    "from keras.datasets import imdb\n",
    "from keras.preprocessing.sequence import pad_sequences\n",
    "from keras.models import Sequential\n",
    "from keras.layers.embeddings import Embedding\n",
    "from keras.layers import SimpleRNN,Dense,Activation"
   ]
  },
  {
   "cell_type": "markdown",
   "metadata": {},
   "source": [
    "<h3>Load Data<h3>"
   ]
  },
  {
   "cell_type": "code",
   "execution_count": 9,
   "metadata": {},
   "outputs": [
    {
     "name": "stdout",
     "output_type": "stream",
     "text": [
      "Downloading data from https://storage.googleapis.com/tensorflow/tf-keras-datasets/imdb.npz\n",
      "17465344/17464789 [==============================] - 4s 0us/step\n",
      "17473536/17464789 [==============================] - 4s 0us/step\n"
     ]
    }
   ],
   "source": [
    "(X_train,Y_train),(X_test,Y_test)=imdb.load_data(path=\"ibdb.npz\",\n",
    "              num_words=None,\n",
    "              skip_top=0,\n",
    "              maxlen=None,\n",
    "              seed=113,\n",
    "              start_char=1,\n",
    "               oov_char=2,\n",
    "               index_from=3\n",
    "              \n",
    "              )"
   ]
  },
  {
   "cell_type": "code",
   "execution_count": 11,
   "metadata": {},
   "outputs": [
    {
     "name": "stdout",
     "output_type": "stream",
     "text": [
      "Type <class 'numpy.ndarray'>\n",
      "Type <class 'numpy.ndarray'>\n",
      "X train shape (25000,)\n",
      "Y train shape (25000,)\n"
     ]
    }
   ],
   "source": [
    "print(\"Type\",type(X_train))\n",
    "print(\"Type\",type(Y_train))\n",
    "print(\"X train shape\",X_train.shape)\n",
    "print(\"Y train shape\",Y_train.shape)\n"
   ]
  },
  {
   "cell_type": "markdown",
   "metadata": {},
   "source": [
    "<h3>EDA<h3>"
   ]
  },
  {
   "cell_type": "code",
   "execution_count": 12,
   "metadata": {},
   "outputs": [
    {
     "name": "stdout",
     "output_type": "stream",
     "text": [
      "Y train values: [0 1]\n",
      "Y test values: [0 1]\n",
      "Y train distrubition: {0: 12500, 1: 12500}\n"
     ]
    }
   ],
   "source": [
    "print(\"Y train values:\",np.unique(Y_train))\n",
    "print(\"Y test values:\",np.unique(Y_test))\n",
    "\n",
    "unique,counts=np.unique(Y_train,return_counts=True)\n",
    "print(\"Y train distrubition:\",dict(zip(unique,counts)))"
   ]
  },
  {
   "cell_type": "code",
   "execution_count": 15,
   "metadata": {},
   "outputs": [
    {
     "name": "stderr",
     "output_type": "stream",
     "text": [
      "C:\\ProgramData\\Anaconda3\\lib\\site-packages\\seaborn\\_decorators.py:36: FutureWarning: Pass the following variable as a keyword arg: x. From version 0.12, the only valid positional argument will be `data`, and passing other arguments without an explicit keyword will result in an error or misinterpretation.\n",
      "  warnings.warn(\n",
      "C:\\ProgramData\\Anaconda3\\lib\\site-packages\\seaborn\\_decorators.py:36: FutureWarning: Pass the following variable as a keyword arg: x. From version 0.12, the only valid positional argument will be `data`, and passing other arguments without an explicit keyword will result in an error or misinterpretation.\n",
      "  warnings.warn(\n"
     ]
    },
    {
     "data": {
      "text/plain": [
       "Text(0.5, 1.0, 'Y test')"
      ]
     },
     "execution_count": 15,
     "metadata": {},
     "output_type": "execute_result"
    },
    {
     "data": {
      "image/png": "[encoded data removed]",
      "text/plain": [
       "<Figure size 432x288 with 1 Axes>"
      ]
     },
     "metadata": {
      "needs_background": "light"
     },
     "output_type": "display_data"
    },
    {
     "data": {
      "image/png": "[encoded data removed]",
      "text/plain": [
       "<Figure size 432x288 with 1 Axes>"
      ]
     },
     "metadata": {
      "needs_background": "light"
     },
     "output_type": "display_data"
    }
   ],
   "source": [
    "plt.figure()\n",
    "sns.countplot(Y_train)\n",
    "plt.xlabel(\"Classes\")\n",
    "plt.ylabel(\"Freq\")\n",
    "plt.title(\"Y train\")\n",
    "\n",
    "plt.figure()\n",
    "sns.countplot(Y_test)\n",
    "plt.xlabel(\"Classes\")\n",
    "plt.ylabel(\"Freq\")\n",
    "plt.title(\"Y test\")"
   ]
  },
  {
   "cell_type": "code",
   "execution_count": 22,
   "metadata": {},
   "outputs": [
    {
     "data": {
      "text/plain": [
       "218"
      ]
     },
     "execution_count": 22,
     "metadata": {},
     "output_type": "execute_result"
    }
   ],
   "source": [
    "d=X_train[0]\n",
    "len(d)"
   ]
  },
  {
   "cell_type": "code",
   "execution_count": 26,
   "metadata": {},
   "outputs": [
    {
     "name": "stderr",
     "output_type": "stream",
     "text": [
      "C:\\ProgramData\\Anaconda3\\lib\\site-packages\\seaborn\\distributions.py:2551: FutureWarning: `distplot` is a deprecated function and will be removed in a future version. Please adapt your code to use either `displot` (a figure-level function with similar flexibility) or `histplot` (an axes-level function for histograms).\n",
      "  warnings.warn(msg, FutureWarning)\n",
      "C:\\ProgramData\\Anaconda3\\lib\\site-packages\\seaborn\\distributions.py:2551: FutureWarning: `distplot` is a deprecated function and will be removed in a future version. Please adapt your code to use either `displot` (a figure-level function with similar flexibility) or `histplot` (an axes-level function for histograms).\n",
      "  warnings.warn(msg, FutureWarning)\n"
     ]
    },
    {
     "data": {
      "text/plain": [
       "<AxesSubplot:ylabel='Density'>"
      ]
     },
     "execution_count": 26,
     "metadata": {},
     "output_type": "execute_result"
    },
    {
     "data": {
      "image/png": "[encoded data removed]",
      "text/plain": [
       "<Figure size 432x288 with 1 Axes>"
      ]
     },
     "metadata": {
      "needs_background": "light"
     },
     "output_type": "display_data"
    }
   ],
   "source": [
    "review_len_train=[]\n",
    "review_len_test=[]\n",
    "for i ,ii in zip(X_train,X_test):\n",
    "    review_len_train.append(len(i))\n",
    "    review_len_test.append(len(ii))\n",
    "\n",
    "sns.distplot(review_len_train,hist_kws={\"alpha\":0.3})\n",
    "sns.distplot(review_len_test,hist_kws={\"alpha\":0.3})"
   ]
  },
  {
   "cell_type": "code",
   "execution_count": 27,
   "metadata": {},
   "outputs": [
    {
     "name": "stdout",
     "output_type": "stream",
     "text": [
      "Train mean: 238.71364\n",
      "Test mean: 230.8042\n"
     ]
    }
   ],
   "source": [
    "print(\"Train mean:\",np.mean(review_len_train))\n",
    "print(\"Test mean:\",np.mean(review_len_test))"
   ]
  },
  {
   "cell_type": "code",
   "execution_count": 31,
   "metadata": {},
   "outputs": [
    {
     "name": "stdout",
     "output_type": "stream",
     "text": [
      "Train mean: ModeResult(mode=array([132]), count=array([196]))\n"
     ]
    }
   ],
   "source": [
    "print(\"Train mean:\",stats.mode(review_len_train))"
   ]
  },
  {
   "cell_type": "code",
   "execution_count": 34,
   "metadata": {},
   "outputs": [
    {
     "name": "stdout",
     "output_type": "stream",
     "text": [
      "88584\n"
     ]
    }
   ],
   "source": [
    "word_index=imdb.get_word_index()\n",
    "print(len(word_index))"
   ]
  },
  {
   "cell_type": "code",
   "execution_count": 37,
   "metadata": {},
   "outputs": [
    {
     "name": "stdout",
     "output_type": "stream",
     "text": [
      "only\n"
     ]
    }
   ],
   "source": [
    "for keys,values in word_index.items():\n",
    "    if values==61:\n",
    "        print(keys)"
   ]
  },
  {
   "cell_type": "code",
   "execution_count": 42,
   "metadata": {},
   "outputs": [
    {
     "name": "stdout",
     "output_type": "stream",
     "text": [
      "! please don't rent or even think about buying this movie they don't even have it available at the red box to rent which would cost a 1 i think its worth less than that the main reason why i rented this d movie was because jenna jameson is in the movie lol between 2 5 min i will give credit that the movie had hot chicks and quite a bit of nudity but other than that you might as well buy another d horror movie that has the same thing with nobody you know ginger lynn has more acting time in this movie than jenna she's not even on the front cover of the movie nor her name i recommend people to watch zombie strippers because you see jenna almost throughout the whole movie nude most of the time this movie is a big disappointment such a huge waste of time\n",
      "0\n"
     ]
    }
   ],
   "source": [
    "def whatItSay(index=24):\n",
    "    reverse_index=dict([(value,key)for (key,value) in word_index.items()])\n",
    "    decode_review=\" \".join([reverse_index.get(i-3,\"!\")for i in X_train[index]])\n",
    "    print(decode_review)\n",
    "    print(Y_train[index])\n",
    "    return decode_review\n",
    "\n",
    "decode_review=whatItSay(61)"
   ]
  },
  {
   "cell_type": "markdown",
   "metadata": {},
   "source": [
    "<h3>Preprocess<h3>"
   ]
  },
  {
   "cell_type": "code",
   "execution_count": 46,
   "metadata": {},
   "outputs": [
    {
     "name": "stdout",
     "output_type": "stream",
     "text": [
      "[   0    0    0    0    0    0    0    0    0    0    0    0    0    0\n",
      "    0    0    0    0    0    0    0    0    0    0    0    0    0    0\n",
      "    0    0    0    0    0    0    0    0    0    0    0    0    0    0\n",
      "    0    0    0    0    0    0    0    0    0    0    0    0    0    0\n",
      "    0    0    0    0    0    0    0    0    0    0    0    0    0    0\n",
      "    0    0    0    0    0    0    0    0    0    0    0    0    0    0\n",
      "    0    0    0    1  778  128   74   12  630  163   15    4 1766 7982\n",
      " 1051    2   32   85  156   45   40  148  139  121  664  665   10   10\n",
      " 1361  173    4  749    2   16 3804    8    4  226   65   12   43  127\n",
      "   24    2   10   10]\n",
      "! ! ! ! ! ! ! ! ! ! ! ! ! ! ! ! ! ! ! ! ! ! ! ! ! ! ! ! ! ! ! ! ! ! ! ! ! ! ! ! ! ! ! ! ! ! ! ! ! ! ! ! ! ! ! ! ! ! ! ! ! ! ! ! ! ! ! ! ! ! ! ! ! ! ! ! ! ! ! ! ! ! ! ! ! ! ! ! begins better than it ends funny that the russian submarine crew ! all other actors it's like those scenes where documentary shots br br spoiler part the message ! was contrary to the whole story it just does not ! br br\n",
      "0\n"
     ]
    }
   ],
   "source": [
    "num_words=15000\n",
    "(X_train,Y_train),(X_test,Y_test)=imdb.load_data(num_words=num_words)\n",
    "maxlen=130\n",
    "X_train=pad_sequences(X_train,maxlen=maxlen)\n",
    "X_test=pad_sequences(X_test,maxlen=maxlen) \n",
    "\n",
    "decode_review=whatItSay(5)"
   ]
  },
  {
   "cell_type": "markdown",
   "metadata": {},
   "source": [
    "<h3>RNN<h3>"
   ]
  },
  {
   "cell_type": "code",
   "execution_count": 48,
   "metadata": {},
   "outputs": [
    {
     "name": "stdout",
     "output_type": "stream",
     "text": [
      "Model: \"sequential\"\n",
      "_________________________________________________________________\n",
      " Layer (type)                Output Shape              Param #   \n",
      "=================================================================\n",
      " embedding (Embedding)       (None, 130, 32)           480000    \n",
      "                                                                 \n",
      " simple_rnn (SimpleRNN)      (None, 16)                784       \n",
      "                                                                 \n",
      " dense (Dense)               (None, 1)                 17        \n",
      "                                                                 \n",
      " activation (Activation)     (None, 1)                 0         \n",
      "                                                                 \n",
      "=================================================================\n",
      "Total params: 480,801\n",
      "Trainable params: 480,801\n",
      "Non-trainable params: 0\n",
      "_________________________________________________________________\n",
      "None\n"
     ]
    }
   ],
   "source": [
    "rnn=Sequential()\n",
    "rnn.add(Embedding(num_words,32,input_length=len(X_train[0])))\n",
    "rnn.add(SimpleRNN(16,input_shape=(num_words,maxlen),return_sequences=False,activation=\"relu\"))\n",
    "rnn.add(Dense(1))\n",
    "rnn.add(Activation(\"sigmoid\"))\n",
    "print(rnn.summary())\n",
    "rnn.compile(loss=\"binary_crossentropy\",optimizer=\"rmsprop\",metrics=[\"accuracy\"])"
   ]
  },
  {
   "cell_type": "code",
   "execution_count": 51,
   "metadata": {},
   "outputs": [
    {
     "name": "stdout",
     "output_type": "stream",
     "text": [
      "Epoch 1/5\n",
      "196/196 [==============================] - 7s 29ms/step - loss: 0.5876 - accuracy: 0.7105 - val_loss: 0.4687 - val_accuracy: 0.8017\n",
      "Epoch 2/5\n",
      "196/196 [==============================] - 5s 27ms/step - loss: 0.3835 - accuracy: 0.8391 - val_loss: 0.3398 - val_accuracy: 0.8540\n",
      "Epoch 3/5\n",
      "196/196 [==============================] - 5s 26ms/step - loss: 0.2892 - accuracy: 0.8836 - val_loss: 0.3621 - val_accuracy: 0.8343\n",
      "Epoch 4/5\n",
      "196/196 [==============================] - 5s 27ms/step - loss: 0.2349 - accuracy: 0.9084 - val_loss: 0.3488 - val_accuracy: 0.8529\n",
      "Epoch 5/5\n",
      "196/196 [==============================] - 5s 26ms/step - loss: 0.2062 - accuracy: 0.9213 - val_loss: 0.5015 - val_accuracy: 0.7938\n"
     ]
    }
   ],
   "source": [
    "history=rnn.fit(X_train,Y_train,validation_data=(X_test,Y_test),epochs=5,batch_size=128,verbose=1)\n"
   ]
  },
  {
   "cell_type": "code",
   "execution_count": 52,
   "metadata": {},
   "outputs": [
    {
     "name": "stdout",
     "output_type": "stream",
     "text": [
      "782/782 [==============================] - 4s 5ms/step - loss: 0.5015 - accuracy: 0.7938\n",
      "Accuracy: %  79.37999963760376\n"
     ]
    }
   ],
   "source": [
    "score=rnn.evaluate(X_test,Y_test)\n",
    "print(\"Accuracy: % \",score[1]*100)"
   ]
  },
  {
   "cell_type": "code",
   "execution_count": 55,
   "metadata": {},
   "outputs": [
    {
     "data": {
      "image/png": "[encoded data removed]",
      "text/plain": [
       "<Figure size 432x288 with 1 Axes>"
      ]
     },
     "metadata": {
      "needs_background": "light"
     },
     "output_type": "display_data"
    }
   ],
   "source": [
    "plt.figure()\n",
    "plt.plot(history.history[\"accuracy\"],label=\"Train\")\n",
    "plt.plot(history.history[\"val_accuracy\"],label=\"Test\")\n",
    "plt.title(\"Acc\")\n",
    "plt.ylabel(\"Acc\")\n",
    "plt.xlabel(\"Epochs\")\n",
    "plt.legend()\n",
    "plt.show()\n"
   ]
  },
  {
   "cell_type": "code",
   "execution_count": 56,
   "metadata": {},
   "outputs": [
    {
     "data": {
      "image/png": "[encoded data removed]",
      "text/plain": [
       "<Figure size 432x288 with 1 Axes>"
      ]
     },
     "metadata": {
      "needs_background": "light"
     },
     "output_type": "display_data"
    }
   ],
   "source": [
    "plt.figure()\n",
    "plt.plot(history.history[\"loss\"],label=\"Train\")\n",
    "plt.plot(history.history[\"val_loss\"],label=\"Test\")\n",
    "plt.title(\"Acc\")\n",
    "plt.ylabel(\"Acc\")\n",
    "plt.xlabel(\"Epochs\")\n",
    "plt.legend()\n",
    "plt.show()"
   ]
  }
 ],
 "metadata": {
  "kernelspec": {
   "display_name": "Python 3",
   "language": "python",
   "name": "python3"
  },
  "language_info": {
   "codemirror_mode": {
    "name": "ipython",
    "version": 3
   },
   "file_extension": ".py",
   "mimetype": "text/x-python",
   "name": "python",
   "nbconvert_exporter": "python",
   "pygments_lexer": "ipython3",
   "version": "3.8.5"
  }
 },
 "nbformat": 4,
 "nbformat_minor": 4
}
